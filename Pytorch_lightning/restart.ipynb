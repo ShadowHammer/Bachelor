{
 "cells": [
  {
   "cell_type": "code",
   "execution_count": 1,
   "metadata": {},
   "outputs": [
    {
     "name": "stdout",
     "output_type": "stream",
     "text": [
      "2.2.1+cu121\n",
      "0.17.1+cu121\n"
     ]
    }
   ],
   "source": [
    "import numpy as np\n",
    "import os\n",
    "import torch\n",
    "import torchvision\n",
    "from torchvision import datasets, models\n",
    "from torchvision.transforms import functional as FT\n",
    "from torchvision import transforms as T\n",
    "import pytorch_lightning as pl\n",
    "from pytorch_lightning.loggers import WandbLogger\n",
    "from torch import nn, optim\n",
    "from torch.nn import functional as F\n",
    "from torch.utils.data import DataLoader, sampler, random_split, Dataset\n",
    "from torch.nn.utils.rnn import pad_sequence\n",
    "import copy\n",
    "import cv2\n",
    "import albumentations as A \n",
    "from torchvision.utils import draw_bounding_boxes\n",
    "import matplotlib.pyplot as plt\n",
    "%matplotlib inline\n",
    "print(torch.__version__)\n",
    "print(torchvision.__version__)\n",
    "from pycocotools.coco import COCO\n",
    "from albumentations.pytorch import ToTensorV2\n",
    "import wandb\n",
    "import matplotlib.patches as patches\n",
    "\n"
   ]
  },
  {
   "cell_type": "markdown",
   "metadata": {},
   "source": [
    "# Hyper paramaters"
   ]
  },
  {
   "cell_type": "code",
   "execution_count": 2,
   "metadata": {},
   "outputs": [
    {
     "name": "stderr",
     "output_type": "stream",
     "text": [
      "Failed to detect the name of this notebook, you can set it manually with the WANDB_NOTEBOOK_NAME environment variable to enable code saving.\n",
      "\u001b[34m\u001b[1mwandb\u001b[0m: Currently logged in as: \u001b[33mtobped\u001b[0m. Use \u001b[1m`wandb login --relogin`\u001b[0m to force relogin\n"
     ]
    },
    {
     "name": "stdout",
     "output_type": "stream",
     "text": [
      "Using GPU\n"
     ]
    }
   ],
   "source": [
    "# Hyperparameters\n",
    "batch_size = 4\n",
    "num_epochs= 10\n",
    "lr = 0.0001\n",
    "squared_gradient = 0.999\n",
    "momentum = 0.9\n",
    "image_size = [640, 640]\n",
    "wandb_on = True\n",
    "device_cuda = \"GPU\" # GPU or CPU\n",
    "model_name = \"hurtig\" # hurtig or god or god v1\n",
    "num_workers = 0\n",
    "\n",
    "dataset_path = \"/Pothole_Large_coco\" #\"/Pothole_coco\" eller \"/Pothole_Large_coco\"\n",
    "\n",
    "# Log the run to Wandb\n",
    "if wandb_on:\n",
    "    wandb.login()\n",
    "\n",
    "# Set device\n",
    "if device_cuda == \"GPU\":\n",
    "    print(\"Using GPU\")\n",
    "    device = torch.device(\"cuda\") # use GPU to train\n",
    "elif device_cuda == \"CPU\":\n",
    "    print(\"Using CPU\")\n",
    "    device = \"cpu\"\n"
   ]
  },
  {
   "cell_type": "markdown",
   "metadata": {},
   "source": [
    "# Transforms"
   ]
  },
  {
   "cell_type": "code",
   "execution_count": 3,
   "metadata": {},
   "outputs": [],
   "source": [
    "# Define transforms for the dataset\n",
    "def get_transforms(train=False):\n",
    "    if train:\n",
    "        transform = A.Compose([\n",
    "            A.Resize(image_size[0], image_size[1]), \n",
    "            A.HorizontalFlip(p=0.3),\n",
    "            A.VerticalFlip(p=0.3),\n",
    "            A.RandomBrightnessContrast(p=0.1),\n",
    "            A.ColorJitter(p=0.1),\n",
    "            ToTensorV2()\n",
    "        ], bbox_params=A.BboxParams(format='coco'))\n",
    "    else:\n",
    "        transform = A.Compose([\n",
    "            A.Resize(image_size[0], image_size[1]), \n",
    "            ToTensorV2()\n",
    "        ], bbox_params=A.BboxParams(format='coco'))\n",
    "    return transform"
   ]
  },
  {
   "cell_type": "markdown",
   "metadata": {},
   "source": [
    "# Data Import"
   ]
  },
  {
   "cell_type": "code",
   "execution_count": 4,
   "metadata": {},
   "outputs": [
    {
     "name": "stdout",
     "output_type": "stream",
     "text": [
      "loading annotations into memory...\n",
      "Done (t=0.06s)\n",
      "creating index...\n",
      "index created!\n",
      "loading annotations into memory...\n",
      "Done (t=0.04s)\n",
      "creating index...\n",
      "index created!\n",
      "loading annotations into memory...\n",
      "Done (t=0.00s)\n",
      "creating index...\n",
      "index created!\n",
      "loading annotations into memory...\n",
      "Done (t=0.00s)\n",
      "creating index...\n",
      "index created!\n"
     ]
    }
   ],
   "source": [
    "\n",
    "# Custom dataset class\n",
    "class PotholeDetectionClass(datasets.VisionDataset):\n",
    "    def __init__(self, root, stage='/train', transform=None, target_transform=None, transforms=None, batch_size = batch_size):\n",
    "        super().__init__(root, transforms, transform, target_transform)\n",
    "        self.stage = stage #train, valid, test\n",
    "        self.coco = COCO(root + stage + \"/_annotations.coco.json\") # annotations stored here\n",
    "        self.ids = list(sorted(self.coco.imgs.keys()))\n",
    "        self.ids = [id for id in self.ids if (len(self._load_target(id)) > 0)]\n",
    "        self.batch_size = batch_size\n",
    "\n",
    "    def _load_image(self, id: int):\n",
    "        path = self.coco.loadImgs(id)[0]['file_name']\n",
    "        path = \"/\" + path\n",
    "        #print(self.root + self.stage + path)\n",
    "        image = cv2.imread(self.root + self.stage + path)\n",
    "        \n",
    "        image = cv2.cvtColor(image, cv2.COLOR_BGR2RGB)\n",
    "        return image\n",
    "    \n",
    "    def _load_target(self, id):\n",
    "        return self.coco.loadAnns(self.coco.getAnnIds(id))\n",
    "    \n",
    "    def __getitem__(self, index):\n",
    "        id = self.ids[index]\n",
    "        image = self._load_image(id)\n",
    "        \n",
    "        target = self._load_target(id)\n",
    "        target = copy.deepcopy(self._load_target(id))\n",
    "\n",
    "        boxes = [t['bbox'] + [t['category_id']] for t in target]\n",
    "        transformed = self.transforms(image=image, bboxes=boxes)\n",
    "        image = transformed['image']\n",
    "        boxes = transformed['bboxes']\n",
    "\n",
    "        new_boxes = []\n",
    "        for box in boxes:\n",
    "            \n",
    "            xmin = box[0]\n",
    "            xmax = xmin + box[2]\n",
    "            ymin = box[1]\n",
    "            ymax = ymin + box[3]\n",
    "            new_boxes.append([xmin, ymin, xmax, ymax])\n",
    "\n",
    "        boxes = torch.tensor(new_boxes, dtype=torch.float32)\n",
    "        targ = {}\n",
    "        targ['boxes'] = boxes\n",
    "        targ['labels'] = torch.tensor([t['category_id'] for t in target], dtype=torch.int64)\n",
    "        targ['image_id'] = torch.tensor([t['image_id'] for t in target])\n",
    "        targ['area'] = (boxes[:, 3] - boxes[:, 1]) * (boxes[:, 2] - boxes[:, 0]) # we have a different area\n",
    "        targ['iscrowd'] = torch.tensor([t['iscrowd'] for t in target], dtype=torch.int64)\n",
    "        image = torch.tensor(image, dtype=torch.float32).div(255)\n",
    "\n",
    "           # Convert target dictionary into tensors\n",
    "        targ = {key: torch.tensor(val) for key, val in targ.items()}\n",
    "        return image, targ \n",
    "    \n",
    "    def __len__(self):\n",
    "        return len(self.ids)\n",
    "    \n",
    "# Set the path to the dataset\n",
    "\n",
    "dataset_path = os.getcwd() + dataset_path\n",
    "# Load the annotations\n",
    "coco = COCO(dataset_path + \"/train\" + \"/_annotations.coco.json\")\n",
    "categories = coco.cats\n",
    "n_classes = len(categories.keys())\n",
    "# Load the dataset\n",
    "train_dataset = PotholeDetectionClass(root=dataset_path, transforms=get_transforms(False))\n",
    "test_dataset = PotholeDetectionClass(root=dataset_path, stage='/test', transforms=get_transforms(False))\n",
    "val_dataset = PotholeDetectionClass(root=dataset_path, stage= \"/valid\", transforms=get_transforms(False))"
   ]
  },
  {
   "cell_type": "markdown",
   "metadata": {},
   "source": [
    "# DataLoader"
   ]
  },
  {
   "cell_type": "code",
   "execution_count": 5,
   "metadata": {},
   "outputs": [],
   "source": [
    "def custom_collate(batch):\n",
    "    return tuple(zip(*batch))\n"
   ]
  },
  {
   "cell_type": "markdown",
   "metadata": {},
   "source": [
    "# Additional"
   ]
  },
  {
   "cell_type": "code",
   "execution_count": 6,
   "metadata": {},
   "outputs": [],
   "source": [
    "# Mothod to plot the image with the bounding boxes\n",
    "def plot_image(img_tensor, annotation,phase='train'):\n",
    "\n",
    "    fig,ax = plt.subplots(1)\n",
    "    img = img_tensor.cpu()\n",
    "\n",
    "    ax.imshow(img.permute(1, 2, 0))\n",
    "    for idx,box in enumerate(annotation[\"boxes\"]):\n",
    "\n",
    "        xmin, ymin, xmax, ymax = box\n",
    "        color=['r','g','b','r']\n",
    "        classes=['no mask','Masked','Improper masking','No-mask']\n",
    "        # Create a Rectangle patch\n",
    "        rect = patches.Rectangle((xmin,ymin),(xmax-xmin),(ymax-ymin),linewidth=3,edgecolor=color[annotation['labels'][idx]],facecolor='none')\n",
    "        ax.text(xmin, ymin, classes[annotation['labels'][idx]],color='black',bbox=dict(facecolor=color[annotation['labels'][idx]], alpha=0.1))\n",
    "        # Add the patch to the Axes\n",
    "        ax.add_patch(rect)\n",
    "    plt.show()\n",
    "\n",
    "def accuracyMetric(preds,annotations):\n",
    "    non_accurate=0\n",
    "    accurate=0\n",
    "    def csm(A,B,corr):\n",
    "        if corr:\n",
    "            B=B-B.mean(axis=1)[:,np.newaxis]\n",
    "            A=A-A.mean(axis=1)[:,np.newaxis]\n",
    "        num=np.dot(A,B.T)\n",
    "        p1=np.sqrt(np.sum(A**2,axis=1))[:,np.newaxis]\n",
    "        p2=np.sqrt(np.sum(B**2,axis=1))[np.newaxis,:]\n",
    "        return 1-(num/(p1*p2))\n",
    "    inds=torch.where((preds['scores'])>0.91)\n",
    "    distMatrix=csm(np.array(preds['boxes'][inds].cpu()),np.array(annotations['boxes'].cpu()),True)\n",
    "\n",
    "    for i in range (distMatrix.shape[0]):\n",
    "        cla=np.argmin(distMatrix[i,:])\n",
    "\n",
    "        if preds['labels'][i]%3==annotations['labels'][cla]:\n",
    "            accurate+=1\n",
    "        else:\n",
    "            non_accurate+=1\n",
    "    allSamp=np.max(((accurate+non_accurate),len(annotations['labels'])))\n",
    "    return (accurate/allSamp)\n",
    "\n"
   ]
  },
  {
   "cell_type": "markdown",
   "metadata": {},
   "source": [
    "# Neural Network"
   ]
  },
  {
   "cell_type": "code",
   "execution_count": 7,
   "metadata": {},
   "outputs": [],
   "source": [
    "# Define the neural network\n",
    "from torchmetrics import Accuracy\n",
    "\n",
    "\n",
    "class NN(pl.LightningModule):\n",
    "    def __init__(self, image_plot_id = 0):\n",
    "        super().__init__()\n",
    "        self.model = self.configure_model()\n",
    "        self.optimizer = self.configure_optimizers()\n",
    "        self.train_loader = self.train_dataloader()\n",
    "        self.thresh  =  0.5\n",
    "        self.test_loader = self.test_dataloader()\n",
    "        self.val_loader = self.val_dataloader()\n",
    "        #self.loss = nn.BCEWithLogitsLoss()\n",
    "        self.losses_dict = []\n",
    "        self.save_hyperparameters()\n",
    "        self.image_plot_id = image_plot_id\n",
    "\n",
    "    def forward(self, x, annotations=None, phase='train'):\n",
    "        if phase=='train':\n",
    "            out=self.model(x,annotations)\n",
    "        else:\n",
    "            self.model.eval()\n",
    "            out=self.model(x[0])\n",
    "        # no activation and no softmax at the end\n",
    "        return out\n",
    "\n",
    "    def training_step(self, batch, batch_idx):\n",
    "        imgs, annotation_labels = batch\n",
    "        self.optimizer.zero_grad()\n",
    "        loss_dict = self(imgs, annotation_labels)\n",
    "        losses = sum(loss for loss in loss_dict.values())\n",
    "        self.optimizer.step()\n",
    "        self.log('train/loss', losses, on_epoch=True)\n",
    "        return losses\n",
    "\n",
    "    def test_step(self,batch,batch_idx):\n",
    "        imgs, annotations = batch\n",
    "        annotations = [{k: v for k, v in t.items()} for t in annotations]\n",
    "        preds = self(list([imgs]),phase='test')\n",
    "        classes = [i[1]['name'] for i in categories.items()]\n",
    "        img, _ = test_dataset[self.image_plot_id]\n",
    "        self.image_plot_id = self.image_plot_id+1\n",
    "        img_int = torch.tensor(img*255, dtype=torch.uint8)\n",
    "        with torch.no_grad():\n",
    "            prediction = self.model([img.to(device)])\n",
    "            pred = prediction[0]\n",
    "            fig = plt.figure(figsize=(14, 10))\n",
    "            name = 'img'+self.image_plot_id+'png'\n",
    "            save_path = os.getcwd() + \"/saved_images/\"\n",
    "            plt.savefig(save_path)\n",
    "        plt.imshow(draw_bounding_boxes(img_int,\n",
    "           pred['boxes'][pred['scores'] > 0.6],\n",
    "           [classes[i] for i in pred['labels'][pred['scores'] > 0.6].tolist()], width=4\n",
    "        ).permute(1, 2, 0))\n",
    "        self.log('test/accuracy',(accuracyMetric(preds[0], annotations[0])),on_epoch=True)\n",
    "        print(\"test: \",accuracyMetric(preds[0], annotations[0]))\n",
    "\n",
    "        #self.log('accuracy',(accuracyMetric(preds[0], annotations[0])),on_epoch=True)\n",
    "        #print((accuracyMetric(preds[0], annotations[0])))\n",
    "\n",
    "    def validation_step(self, batch, batch_idx):\n",
    "        imgs, annotations = batch\n",
    "        annotations = [{k: v for k, v in t.items()} for t in annotations]\n",
    "        preds = self(list([imgs]),phase='val')\n",
    "        self.log('validate/accuracy',(accuracyMetric(preds[0], annotations[0])),on_epoch=True)\n",
    "        #print(\"validate: \",accuracyMetric(preds[0], annotations[0]))\n",
    "        return accuracyMetric(preds[0], annotations[0])\n",
    "    \n",
    "    \n",
    "\n",
    "\n",
    "    #Tjek om annotations er tom eller ej i eval\n",
    "\n",
    "    def configure_model(self):\n",
    "        if model_name == \"hurtig\":\n",
    "            model = models.detection.fasterrcnn_mobilenet_v3_large_320_fpn(pretrained=True)    # hurtig\n",
    "            print(\"Using hurtig model\")\n",
    "        elif model_name == \"god\":\n",
    "            model = models.detection.fasterrcnn_resnet50_fpn_v2(pretrained=True)                   # god\n",
    "            print(\"Using god model\")\n",
    "        elif model_name == \"god v1\":\n",
    "            model = models.detection.fasterrcnn_resnet50_fpn(pretrained=True)                   # god v1\n",
    "            print(\"Using god v1 model\")\n",
    "\n",
    "        model = model.to(device)\n",
    "        return model\n",
    "\n",
    "    def configure_optimizers(self):\n",
    "        params = [p for p in self.model.parameters() if p.requires_grad]\n",
    "        self.optimizer = torch.optim.Adam(params, lr=lr, weight_decay=1e-4) # to change adam use F12 and changes betas\n",
    "        return self.optimizer\n",
    "\n",
    "    def train_dataloader(self):\n",
    "        train_loader = DataLoader(train_dataset, batch_size=batch_size, shuffle=True, num_workers=num_workers, collate_fn=custom_collate,pin_memory=True)\n",
    "        return train_loader\n",
    "\n",
    "    def test_dataloader(self):\n",
    "        test_loader = DataLoader(test_dataset, batch_size=batch_size, shuffle=False, num_workers=num_workers, collate_fn=custom_collate,pin_memory=True)\n",
    "        return test_loader\n",
    "    \n",
    "    def val_dataloader(self): \n",
    "        val_loader = DataLoader(val_dataset, batch_size=batch_size, shuffle=False, num_workers=num_workers, collate_fn=custom_collate,pin_memory=True)\n",
    "        return val_loader\n"
   ]
  },
  {
   "cell_type": "markdown",
   "metadata": {},
   "source": [
    "# Training"
   ]
  },
  {
   "cell_type": "code",
   "execution_count": 8,
   "metadata": {},
   "outputs": [
    {
     "name": "stderr",
     "output_type": "stream",
     "text": [
      "C:\\Users\\tobia\\AppData\\Local\\Packages\\PythonSoftwareFoundation.Python.3.12_qbz5n2kfra8p0\\LocalCache\\local-packages\\Python312\\site-packages\\torchvision\\models\\_utils.py:208: UserWarning: The parameter 'pretrained' is deprecated since 0.13 and may be removed in the future, please use 'weights' instead.\n",
      "  warnings.warn(\n",
      "C:\\Users\\tobia\\AppData\\Local\\Packages\\PythonSoftwareFoundation.Python.3.12_qbz5n2kfra8p0\\LocalCache\\local-packages\\Python312\\site-packages\\torchvision\\models\\_utils.py:223: UserWarning: Arguments other than a weight enum or `None` for 'weights' are deprecated since 0.13 and may be removed in the future. The current behavior is equivalent to passing `weights=FasterRCNN_MobileNet_V3_Large_320_FPN_Weights.COCO_V1`. You can also use `weights=FasterRCNN_MobileNet_V3_Large_320_FPN_Weights.DEFAULT` to get the most up-to-date weights.\n",
      "  warnings.warn(msg)\n"
     ]
    },
    {
     "name": "stdout",
     "output_type": "stream",
     "text": [
      "Using hurtig model\n"
     ]
    },
    {
     "data": {
      "text/html": [
       "Tracking run with wandb version 0.16.6"
      ],
      "text/plain": [
       "<IPython.core.display.HTML object>"
      ]
     },
     "metadata": {},
     "output_type": "display_data"
    },
    {
     "data": {
      "text/html": [
       "Run data is saved locally in <code>.\\wandb\\run-20240426_124740-spzgnut2</code>"
      ],
      "text/plain": [
       "<IPython.core.display.HTML object>"
      ]
     },
     "metadata": {},
     "output_type": "display_data"
    },
    {
     "data": {
      "text/html": [
       "Syncing run <strong><a href='https://wandb.ai/tobped/Bachelor0386/runs/spzgnut2' target=\"_blank\">sleek-yogurt-64</a></strong> to <a href='https://wandb.ai/tobped/Bachelor0386' target=\"_blank\">Weights & Biases</a> (<a href='https://wandb.me/run' target=\"_blank\">docs</a>)<br/>"
      ],
      "text/plain": [
       "<IPython.core.display.HTML object>"
      ]
     },
     "metadata": {},
     "output_type": "display_data"
    },
    {
     "data": {
      "text/html": [
       " View project at <a href='https://wandb.ai/tobped/Bachelor0386' target=\"_blank\">https://wandb.ai/tobped/Bachelor0386</a>"
      ],
      "text/plain": [
       "<IPython.core.display.HTML object>"
      ]
     },
     "metadata": {},
     "output_type": "display_data"
    },
    {
     "data": {
      "text/html": [
       " View run at <a href='https://wandb.ai/tobped/Bachelor0386/runs/spzgnut2' target=\"_blank\">https://wandb.ai/tobped/Bachelor0386/runs/spzgnut2</a>"
      ],
      "text/plain": [
       "<IPython.core.display.HTML object>"
      ]
     },
     "metadata": {},
     "output_type": "display_data"
    },
    {
     "name": "stderr",
     "output_type": "stream",
     "text": [
      "\u001b[34m\u001b[1mwandb\u001b[0m: logging graph, to disable use `wandb.watch(log_graph=False)`\n",
      "GPU available: True (cuda), used: True\n",
      "TPU available: False, using: 0 TPU cores\n",
      "IPU available: False, using: 0 IPUs\n",
      "HPU available: False, using: 0 HPUs\n",
      "You are using a CUDA device ('NVIDIA GeForce RTX 3070') that has Tensor Cores. To properly utilize them, you should set `torch.set_float32_matmul_precision('medium' | 'high')` which will trade-off precision for performance. For more details, read https://pytorch.org/docs/stable/generated/torch.set_float32_matmul_precision.html#torch.set_float32_matmul_precision\n",
      "C:\\Users\\tobia\\AppData\\Local\\Packages\\PythonSoftwareFoundation.Python.3.12_qbz5n2kfra8p0\\LocalCache\\local-packages\\Python312\\site-packages\\torchvision\\models\\_utils.py:208: UserWarning: The parameter 'pretrained' is deprecated since 0.13 and may be removed in the future, please use 'weights' instead.\n",
      "  warnings.warn(\n",
      "C:\\Users\\tobia\\AppData\\Local\\Packages\\PythonSoftwareFoundation.Python.3.12_qbz5n2kfra8p0\\LocalCache\\local-packages\\Python312\\site-packages\\torchvision\\models\\_utils.py:223: UserWarning: Arguments other than a weight enum or `None` for 'weights' are deprecated since 0.13 and may be removed in the future. The current behavior is equivalent to passing `weights=FasterRCNN_MobileNet_V3_Large_320_FPN_Weights.COCO_V1`. You can also use `weights=FasterRCNN_MobileNet_V3_Large_320_FPN_Weights.DEFAULT` to get the most up-to-date weights.\n",
      "  warnings.warn(msg)\n",
      "LOCAL_RANK: 0 - CUDA_VISIBLE_DEVICES: [0]\n",
      "\n",
      "  | Name  | Type       | Params\n",
      "-------------------------------------\n",
      "0 | model | FasterRCNN | 19.4 M\n",
      "-------------------------------------\n",
      "19.3 M    Trainable params\n",
      "58.9 K    Non-trainable params\n",
      "19.4 M    Total params\n",
      "77.545    Total estimated model params size (MB)\n"
     ]
    },
    {
     "name": "stdout",
     "output_type": "stream",
     "text": [
      "Using hurtig model\n",
      "Sanity Checking: |          | 0/? [00:00<?, ?it/s]"
     ]
    },
    {
     "name": "stderr",
     "output_type": "stream",
     "text": [
      "C:\\Users\\tobia\\AppData\\Local\\Packages\\PythonSoftwareFoundation.Python.3.12_qbz5n2kfra8p0\\LocalCache\\local-packages\\Python312\\site-packages\\pytorch_lightning\\trainer\\connectors\\data_connector.py:441: The 'val_dataloader' does not have many workers which may be a bottleneck. Consider increasing the value of the `num_workers` argument` to `num_workers=19` in the `DataLoader` to improve performance.\n",
      "C:\\Users\\tobia\\AppData\\Local\\Temp\\ipykernel_15792\\3609768078.py:51: UserWarning: To copy construct from a tensor, it is recommended to use sourceTensor.clone().detach() or sourceTensor.clone().detach().requires_grad_(True), rather than torch.tensor(sourceTensor).\n",
      "  image = torch.tensor(image, dtype=torch.float32).div(255)\n",
      "C:\\Users\\tobia\\AppData\\Local\\Temp\\ipykernel_15792\\3609768078.py:54: UserWarning: To copy construct from a tensor, it is recommended to use sourceTensor.clone().detach() or sourceTensor.clone().detach().requires_grad_(True), rather than torch.tensor(sourceTensor).\n",
      "  targ = {key: torch.tensor(val) for key, val in targ.items()}\n"
     ]
    },
    {
     "name": "stdout",
     "output_type": "stream",
     "text": [
      "                                                                           "
     ]
    },
    {
     "name": "stderr",
     "output_type": "stream",
     "text": [
      "C:\\Users\\tobia\\AppData\\Local\\Packages\\PythonSoftwareFoundation.Python.3.12_qbz5n2kfra8p0\\LocalCache\\local-packages\\Python312\\site-packages\\pytorch_lightning\\utilities\\data.py:77: Trying to infer the `batch_size` from an ambiguous collection. The batch size we found is 3. To avoid any miscalculations, use `self.log(..., batch_size=batch_size)`.\n",
      "C:\\Users\\tobia\\AppData\\Local\\Temp\\ipykernel_15792\\3609768078.py:51: UserWarning: To copy construct from a tensor, it is recommended to use sourceTensor.clone().detach() or sourceTensor.clone().detach().requires_grad_(True), rather than torch.tensor(sourceTensor).\n",
      "  image = torch.tensor(image, dtype=torch.float32).div(255)\n",
      "C:\\Users\\tobia\\AppData\\Local\\Temp\\ipykernel_15792\\3609768078.py:54: UserWarning: To copy construct from a tensor, it is recommended to use sourceTensor.clone().detach() or sourceTensor.clone().detach().requires_grad_(True), rather than torch.tensor(sourceTensor).\n",
      "  targ = {key: torch.tensor(val) for key, val in targ.items()}\n",
      "C:\\Users\\tobia\\AppData\\Local\\Packages\\PythonSoftwareFoundation.Python.3.12_qbz5n2kfra8p0\\LocalCache\\local-packages\\Python312\\site-packages\\pytorch_lightning\\trainer\\connectors\\data_connector.py:441: The 'train_dataloader' does not have many workers which may be a bottleneck. Consider increasing the value of the `num_workers` argument` to `num_workers=19` in the `DataLoader` to improve performance.\n"
     ]
    },
    {
     "name": "stdout",
     "output_type": "stream",
     "text": [
      "Epoch 3:  49%|████▉     | 349/710 [00:22<00:23, 15.37it/s, v_num=nut2]"
     ]
    }
   ],
   "source": [
    "lightning_module = NN()\n",
    "# Initialize a Lightning Trainer\n",
    "if wandb_on:\n",
    "\n",
    "    wandb_logger = WandbLogger(project=\"bachelor0386\",job_type='train') # for test brug \"test1234544-org\" og for train brug \"bachelor0386\"\n",
    "    wandb_logger.experiment.name = \"accuracy test\"\n",
    "    wandb_logger.experiment.config[\"model\"] = model_name\n",
    "    wandb_logger.experiment.config[\"batch_size\"] = batch_size\n",
    "    wandb_logger.experiment.config[\"num_epochs\"] = num_epochs\n",
    "    wandb_logger.experiment.config[\"lr\"] = lr\n",
    "    #wandb_logger = WandbLogger(project='Bachelor', job_type='train')\n",
    "    wandb_logger.watch(lightning_module.model, log=\"all\")\n",
    "    trainer = pl.Trainer(max_epochs=num_epochs,logger=wandb_logger)  # You can adjust the Trainer options\n",
    "else:\n",
    "    trainer = pl.Trainer(max_epochs=num_epochs)\n",
    "# Start training\n",
    "\n",
    "trainer.fit(lightning_module)\n",
    "\n"
   ]
  },
  {
   "cell_type": "markdown",
   "metadata": {},
   "source": [
    "# Load Checkpoint"
   ]
  },
  {
   "cell_type": "code",
   "execution_count": null,
   "metadata": {},
   "outputs": [
    {
     "name": "stderr",
     "output_type": "stream",
     "text": [
      "LOCAL_RANK: 0 - CUDA_VISIBLE_DEVICES: [0]\n"
     ]
    },
    {
     "name": "stdout",
     "output_type": "stream",
     "text": [
      "Using hurtig model\n"
     ]
    },
    {
     "name": "stderr",
     "output_type": "stream",
     "text": [
      "C:\\Users\\tobia\\AppData\\Local\\Packages\\PythonSoftwareFoundation.Python.3.12_qbz5n2kfra8p0\\LocalCache\\local-packages\\Python312\\site-packages\\pytorch_lightning\\trainer\\connectors\\data_connector.py:441: The 'test_dataloader' does not have many workers which may be a bottleneck. Consider increasing the value of the `num_workers` argument` to `num_workers=19` in the `DataLoader` to improve performance.\n"
     ]
    },
    {
     "name": "stdout",
     "output_type": "stream",
     "text": [
      "Testing DataLoader 0:   0%|          | 0/24 [00:00<?, ?it/s]"
     ]
    },
    {
     "name": "stderr",
     "output_type": "stream",
     "text": [
      "C:\\Users\\tobia\\AppData\\Local\\Temp\\ipykernel_26840\\3609768078.py:51: UserWarning: To copy construct from a tensor, it is recommended to use sourceTensor.clone().detach() or sourceTensor.clone().detach().requires_grad_(True), rather than torch.tensor(sourceTensor).\n",
      "  image = torch.tensor(image, dtype=torch.float32).div(255)\n",
      "C:\\Users\\tobia\\AppData\\Local\\Temp\\ipykernel_26840\\3609768078.py:54: UserWarning: To copy construct from a tensor, it is recommended to use sourceTensor.clone().detach() or sourceTensor.clone().detach().requires_grad_(True), rather than torch.tensor(sourceTensor).\n",
      "  targ = {key: torch.tensor(val) for key, val in targ.items()}\n",
      "C:\\Users\\tobia\\AppData\\Local\\Temp\\ipykernel_26840\\3440988301.py:46: UserWarning: To copy construct from a tensor, it is recommended to use sourceTensor.clone().detach() or sourceTensor.clone().detach().requires_grad_(True), rather than torch.tensor(sourceTensor).\n",
      "  img_int = torch.tensor(img*255, dtype=torch.uint8)\n"
     ]
    },
    {
     "name": "stdout",
     "output_type": "stream",
     "text": [
      "Testing DataLoader 0: 100%|██████████| 24/24 [00:01<00:00, 15.43it/s]\n"
     ]
    },
    {
     "name": "stderr",
     "output_type": "stream",
     "text": [
      "C:\\Users\\tobia\\AppData\\Local\\Temp\\ipykernel_26840\\3440988301.py:50: RuntimeWarning: More than 20 figures have been opened. Figures created through the pyplot interface (`matplotlib.pyplot.figure`) are retained until explicitly closed and may consume too much memory. (To control this warning, see the rcParam `figure.max_open_warning`). Consider using `matplotlib.pyplot.close()`.\n",
      "  fig = plt.figure(figsize=(14, 10))\n"
     ]
    },
    {
     "data": {
      "text/html": [
       "<pre style=\"white-space:pre;overflow-x:auto;line-height:normal;font-family:Menlo,'DejaVu Sans Mono',consolas,'Courier New',monospace\">┏━━━━━━━━━━━━━━━━━━━━━━━━━━━┳━━━━━━━━━━━━━━━━━━━━━━━━━━━┓\n",
       "┃<span style=\"font-weight: bold\">        Test metric        </span>┃<span style=\"font-weight: bold\">       DataLoader 0        </span>┃\n",
       "┡━━━━━━━━━━━━━━━━━━━━━━━━━━━╇━━━━━━━━━━━━━━━━━━━━━━━━━━━┩\n",
       "│<span style=\"color: #008080; text-decoration-color: #008080\">       test/accuracy       </span>│<span style=\"color: #800080; text-decoration-color: #800080\">            0.0            </span>│\n",
       "└───────────────────────────┴───────────────────────────┘\n",
       "</pre>\n"
      ],
      "text/plain": [
       "┏━━━━━━━━━━━━━━━━━━━━━━━━━━━┳━━━━━━━━━━━━━━━━━━━━━━━━━━━┓\n",
       "┃\u001b[1m \u001b[0m\u001b[1m       Test metric       \u001b[0m\u001b[1m \u001b[0m┃\u001b[1m \u001b[0m\u001b[1m      DataLoader 0       \u001b[0m\u001b[1m \u001b[0m┃\n",
       "┡━━━━━━━━━━━━━━━━━━━━━━━━━━━╇━━━━━━━━━━━━━━━━━━━━━━━━━━━┩\n",
       "│\u001b[36m \u001b[0m\u001b[36m      test/accuracy      \u001b[0m\u001b[36m \u001b[0m│\u001b[35m \u001b[0m\u001b[35m           0.0           \u001b[0m\u001b[35m \u001b[0m│\n",
       "└───────────────────────────┴───────────────────────────┘\n"
      ]
     },
     "metadata": {},
     "output_type": "display_data"
    },
    {
     "data": {
      "text/plain": [
       "[{'test/accuracy': 0.0}]"
      ]
     },
     "execution_count": 9,
     "metadata": {},
     "output_type": "execute_result"
    },
    {
     "data": {
      "text/plain": [
       "<Figure size 1400x1000 with 0 Axes>"
      ]
     },
     "metadata": {},
     "output_type": "display_data"
    },
    {
     "data": {
      "text/plain": [
       "<Figure size 1400x1000 with 0 Axes>"
      ]
     },
     "metadata": {},
     "output_type": "display_data"
    },
    {
     "data": {
      "text/plain": [
       "<Figure size 1400x1000 with 0 Axes>"
      ]
     },
     "metadata": {},
     "output_type": "display_data"
    },
    {
     "data": {
      "text/plain": [
       "<Figure size 1400x1000 with 0 Axes>"
      ]
     },
     "metadata": {},
     "output_type": "display_data"
    },
    {
     "data": {
      "text/plain": [
       "<Figure size 1400x1000 with 0 Axes>"
      ]
     },
     "metadata": {},
     "output_type": "display_data"
    },
    {
     "data": {
      "text/plain": [
       "<Figure size 1400x1000 with 0 Axes>"
      ]
     },
     "metadata": {},
     "output_type": "display_data"
    },
    {
     "data": {
      "text/plain": [
       "<Figure size 1400x1000 with 0 Axes>"
      ]
     },
     "metadata": {},
     "output_type": "display_data"
    },
    {
     "data": {
      "text/plain": [
       "<Figure size 1400x1000 with 0 Axes>"
      ]
     },
     "metadata": {},
     "output_type": "display_data"
    },
    {
     "data": {
      "text/plain": [
       "<Figure size 1400x1000 with 0 Axes>"
      ]
     },
     "metadata": {},
     "output_type": "display_data"
    },
    {
     "data": {
      "text/plain": [
       "<Figure size 1400x1000 with 0 Axes>"
      ]
     },
     "metadata": {},
     "output_type": "display_data"
    },
    {
     "data": {
      "text/plain": [
       "<Figure size 1400x1000 with 0 Axes>"
      ]
     },
     "metadata": {},
     "output_type": "display_data"
    },
    {
     "data": {
      "text/plain": [
       "<Figure size 1400x1000 with 0 Axes>"
      ]
     },
     "metadata": {},
     "output_type": "display_data"
    },
    {
     "data": {
      "text/plain": [
       "<Figure size 1400x1000 with 0 Axes>"
      ]
     },
     "metadata": {},
     "output_type": "display_data"
    },
    {
     "data": {
      "text/plain": [
       "<Figure size 1400x1000 with 0 Axes>"
      ]
     },
     "metadata": {},
     "output_type": "display_data"
    },
    {
     "data": {
      "text/plain": [
       "<Figure size 1400x1000 with 0 Axes>"
      ]
     },
     "metadata": {},
     "output_type": "display_data"
    },
    {
     "data": {
      "text/plain": [
       "<Figure size 1400x1000 with 0 Axes>"
      ]
     },
     "metadata": {},
     "output_type": "display_data"
    },
    {
     "data": {
      "text/plain": [
       "<Figure size 1400x1000 with 0 Axes>"
      ]
     },
     "metadata": {},
     "output_type": "display_data"
    },
    {
     "data": {
      "text/plain": [
       "<Figure size 1400x1000 with 0 Axes>"
      ]
     },
     "metadata": {},
     "output_type": "display_data"
    },
    {
     "data": {
      "text/plain": [
       "<Figure size 1400x1000 with 0 Axes>"
      ]
     },
     "metadata": {},
     "output_type": "display_data"
    },
    {
     "data": {
      "text/plain": [
       "<Figure size 1400x1000 with 0 Axes>"
      ]
     },
     "metadata": {},
     "output_type": "display_data"
    },
    {
     "data": {
      "text/plain": [
       "<Figure size 1400x1000 with 0 Axes>"
      ]
     },
     "metadata": {},
     "output_type": "display_data"
    },
    {
     "data": {
      "text/plain": [
       "<Figure size 1400x1000 with 0 Axes>"
      ]
     },
     "metadata": {},
     "output_type": "display_data"
    },
    {
     "data": {
      "text/plain": [
       "<Figure size 1400x1000 with 0 Axes>"
      ]
     },
     "metadata": {},
     "output_type": "display_data"
    },
    {
     "data": {
      "text/plain": [
       "<Figure size 1400x1000 with 0 Axes>"
      ]
     },
     "metadata": {},
     "output_type": "display_data"
    }
   ],
   "source": [
    "#ckpt_path = \"lightning_logs/version_3/checkpoints/epoch=0-step=59.ckpt\"\n",
    "#ckpt_path = \"bachelor0386/wc3tnlim/checkpoints/epoch=299-step=17700.ckpt\"\n",
    "\n",
    "#NN.load_from_checkpoint(ckpt_path)\n",
    "#trainer = pl.Trainer(max_epochs=10)\n",
    "#trainer.fit(lightning_module)\n",
    "trainer.test(lightning_module)"
   ]
  },
  {
   "cell_type": "markdown",
   "metadata": {},
   "source": [
    "# Testing"
   ]
  },
  {
   "cell_type": "code",
   "execution_count": null,
   "metadata": {},
   "outputs": [],
   "source": [
    "#trainer.test(lightning_module)\n"
   ]
  },
  {
   "cell_type": "markdown",
   "metadata": {},
   "source": [
    "# Validate"
   ]
  },
  {
   "cell_type": "code",
   "execution_count": null,
   "metadata": {},
   "outputs": [
    {
     "name": "stderr",
     "output_type": "stream",
     "text": [
      "LOCAL_RANK: 0 - CUDA_VISIBLE_DEVICES: [0]\n"
     ]
    },
    {
     "name": "stdout",
     "output_type": "stream",
     "text": [
      "Using hurtig model\n",
      "Validation DataLoader 0:   0%|          | 0/24 [00:00<?, ?it/s]0.0\n",
      "Validation DataLoader 0:   4%|▍         | 1/24 [00:00<00:00, 28.73it/s]0.0\n",
      "Validation DataLoader 0:   8%|▊         | 2/24 [00:00<00:00, 26.54it/s]0.0\n",
      "Validation DataLoader 0:  12%|█▎        | 3/24 [00:00<00:00, 25.89it/s]"
     ]
    },
    {
     "name": "stderr",
     "output_type": "stream",
     "text": [
      "C:\\Users\\tobia\\AppData\\Local\\Temp\\ipykernel_26840\\3609768078.py:51: UserWarning: To copy construct from a tensor, it is recommended to use sourceTensor.clone().detach() or sourceTensor.clone().detach().requires_grad_(True), rather than torch.tensor(sourceTensor).\n",
      "  image = torch.tensor(image, dtype=torch.float32).div(255)\n",
      "C:\\Users\\tobia\\AppData\\Local\\Temp\\ipykernel_26840\\3609768078.py:54: UserWarning: To copy construct from a tensor, it is recommended to use sourceTensor.clone().detach() or sourceTensor.clone().detach().requires_grad_(True), rather than torch.tensor(sourceTensor).\n",
      "  targ = {key: torch.tensor(val) for key, val in targ.items()}\n"
     ]
    },
    {
     "name": "stdout",
     "output_type": "stream",
     "text": [
      "0.0\n",
      "Validation DataLoader 0:  17%|█▋        | 4/24 [00:00<00:00, 25.96it/s]0.0\n",
      "Validation DataLoader 0:  21%|██        | 5/24 [00:00<00:00, 25.72it/s]0.0\n",
      "Validation DataLoader 0:  25%|██▌       | 6/24 [00:00<00:00, 25.57it/s]0.0\n",
      "Validation DataLoader 0:  29%|██▉       | 7/24 [00:00<00:00, 25.56it/s]0.0\n",
      "Validation DataLoader 0:  33%|███▎      | 8/24 [00:00<00:00, 25.48it/s]0.0\n",
      "Validation DataLoader 0:  38%|███▊      | 9/24 [00:00<00:00, 25.48it/s]0.0\n",
      "Validation DataLoader 0:  42%|████▏     | 10/24 [00:00<00:00, 25.54it/s]0.0\n",
      "Validation DataLoader 0:  46%|████▌     | 11/24 [00:00<00:00, 25.50it/s]0.0\n",
      "Validation DataLoader 0:  50%|█████     | 12/24 [00:00<00:00, 25.43it/s]0.0\n",
      "Validation DataLoader 0:  54%|█████▍    | 13/24 [00:00<00:00, 25.41it/s]0.0\n",
      "Validation DataLoader 0:  58%|█████▊    | 14/24 [00:00<00:00, 25.46it/s]0.0\n",
      "Validation DataLoader 0:  62%|██████▎   | 15/24 [00:00<00:00, 25.42it/s]0.0\n",
      "Validation DataLoader 0:  67%|██████▋   | 16/24 [00:00<00:00, 25.37it/s]0.0\n",
      "Validation DataLoader 0:  71%|███████   | 17/24 [00:00<00:00, 25.34it/s]0.0\n",
      "Validation DataLoader 0:  75%|███████▌  | 18/24 [00:00<00:00, 25.32it/s]0.0\n",
      "Validation DataLoader 0:  79%|███████▉  | 19/24 [00:00<00:00, 25.30it/s]0.0\n",
      "Validation DataLoader 0:  83%|████████▎ | 20/24 [00:00<00:00, 25.29it/s]0.0\n",
      "Validation DataLoader 0:  88%|████████▊ | 21/24 [00:00<00:00, 25.26it/s]0.0\n",
      "Validation DataLoader 0:  92%|█████████▏| 22/24 [00:00<00:00, 25.21it/s]0.0\n",
      "Validation DataLoader 0:  96%|█████████▌| 23/24 [00:00<00:00, 25.22it/s]0.0\n",
      "Validation DataLoader 0: 100%|██████████| 24/24 [00:00<00:00, 25.22it/s]\n"
     ]
    },
    {
     "data": {
      "text/html": [
       "<pre style=\"white-space:pre;overflow-x:auto;line-height:normal;font-family:Menlo,'DejaVu Sans Mono',consolas,'Courier New',monospace\">┏━━━━━━━━━━━━━━━━━━━━━━━━━━━┳━━━━━━━━━━━━━━━━━━━━━━━━━━━┓\n",
       "┃<span style=\"font-weight: bold\">      Validate metric      </span>┃<span style=\"font-weight: bold\">       DataLoader 0        </span>┃\n",
       "┡━━━━━━━━━━━━━━━━━━━━━━━━━━━╇━━━━━━━━━━━━━━━━━━━━━━━━━━━┩\n",
       "│<span style=\"color: #008080; text-decoration-color: #008080\">     validate/accuracy     </span>│<span style=\"color: #800080; text-decoration-color: #800080\">            0.0            </span>│\n",
       "└───────────────────────────┴───────────────────────────┘\n",
       "</pre>\n"
      ],
      "text/plain": [
       "┏━━━━━━━━━━━━━━━━━━━━━━━━━━━┳━━━━━━━━━━━━━━━━━━━━━━━━━━━┓\n",
       "┃\u001b[1m \u001b[0m\u001b[1m     Validate metric     \u001b[0m\u001b[1m \u001b[0m┃\u001b[1m \u001b[0m\u001b[1m      DataLoader 0       \u001b[0m\u001b[1m \u001b[0m┃\n",
       "┡━━━━━━━━━━━━━━━━━━━━━━━━━━━╇━━━━━━━━━━━━━━━━━━━━━━━━━━━┩\n",
       "│\u001b[36m \u001b[0m\u001b[36m    validate/accuracy    \u001b[0m\u001b[36m \u001b[0m│\u001b[35m \u001b[0m\u001b[35m           0.0           \u001b[0m\u001b[35m \u001b[0m│\n",
       "└───────────────────────────┴───────────────────────────┘\n"
      ]
     },
     "metadata": {},
     "output_type": "display_data"
    }
   ],
   "source": [
    "trainer.validate(lightning_module)\n",
    "if wandb_on:\n",
    "    wandb.finish()\n"
   ]
  }
 ],
 "metadata": {
  "kernelspec": {
   "display_name": "Python 3",
   "language": "python",
   "name": "python3"
  },
  "language_info": {
   "codemirror_mode": {
    "name": "ipython",
    "version": 3
   },
   "file_extension": ".py",
   "mimetype": "text/x-python",
   "name": "python",
   "nbconvert_exporter": "python",
   "pygments_lexer": "ipython3",
   "version": "3.12.3"
  }
 },
 "nbformat": 4,
 "nbformat_minor": 2
}
